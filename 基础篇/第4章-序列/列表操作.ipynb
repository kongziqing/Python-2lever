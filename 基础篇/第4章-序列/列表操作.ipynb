{
 "cells": [
  {
   "cell_type": "markdown",
   "metadata": {
    "collapsed": true,
    "pycharm": {
     "name": "#%% md\n"
    }
   },
   "source": [
    "定义并访问列表"
   ]
  },
  {
   "cell_type": "code",
   "execution_count": 2,
   "outputs": [
    {
     "name": "stdout",
     "output_type": "stream",
     "text": [
      "里型话 yootk.com、慕言又拖 "
     ]
    }
   ],
   "source": [
    "infos = ['里型话','yootk.com','慕言又拖']\n",
    "print(infos[0],end=' ')\n",
    "print(infos[1],end='、')\n",
    "print(infos[2],end=' ')\n",
    "\n"
   ],
   "metadata": {
    "collapsed": false,
    "pycharm": {
     "name": "#%%\n"
    }
   }
  },
  {
   "cell_type": "markdown",
   "source": [
    "在列表上使用乘法操作"
   ],
   "metadata": {
    "collapsed": false,
    "pycharm": {
     "name": "#%% md\n"
    }
   }
  },
  {
   "cell_type": "code",
   "execution_count": 3,
   "outputs": [
    {
     "name": "stdout",
     "output_type": "stream",
     "text": [
      "['kongziiqing', 23, 'kongziiqing', 23, 'kongziiqing', 23]\n"
     ]
    }
   ],
   "source": [
    "infos = ['kongziiqing',23]*3\n",
    "print(infos)\n"
   ],
   "metadata": {
    "collapsed": false,
    "pycharm": {
     "name": "#%%\n"
    }
   }
  },
  {
   "cell_type": "markdown",
   "source": [
    "通过’+‘连接多个序列"
   ],
   "metadata": {
    "collapsed": false,
    "pycharm": {
     "name": "#%% md\n"
    }
   }
  },
  {
   "cell_type": "code",
   "execution_count": 4,
   "outputs": [
    {
     "name": "stdout",
     "output_type": "stream",
     "text": [
      "['孔子庆', 'youk', 'tody', 'happy']\n"
     ]
    }
   ],
   "source": [
    "infos = ['孔子庆','youk']+['tody','happy']\n",
    "print(infos)"
   ],
   "metadata": {
    "collapsed": false,
    "pycharm": {
     "name": "#%%\n"
    }
   }
  },
  {
   "cell_type": "markdown",
   "source": [
    "数据分片"
   ],
   "metadata": {
    "collapsed": false,
    "pycharm": {
     "name": "#%% md\n"
    }
   }
  },
  {
   "cell_type": "code",
   "execution_count": 5,
   "outputs": [
    {
     "name": "stdout",
     "output_type": "stream",
     "text": [
      "['a', 'b', '1', '2', 'e', 'f', 'g']\n"
     ]
    }
   ],
   "source": [
    "#分片内容替换\n",
    "number = ['a','b','c','d','e','f','g']\n",
    "number[2:4]=['1','2']\n",
    "print(number)"
   ],
   "metadata": {
    "collapsed": false,
    "pycharm": {
     "name": "#%%\n"
    }
   }
  },
  {
   "cell_type": "markdown",
   "source": [
    "实现部分数据删除"
   ],
   "metadata": {
    "collapsed": false,
    "pycharm": {
     "name": "#%% md\n"
    }
   }
  },
  {
   "cell_type": "code",
   "execution_count": 7,
   "outputs": [
    {
     "name": "stdout",
     "output_type": "stream",
     "text": [
      "['1', '2', '7']\n"
     ]
    }
   ],
   "source": [
    "numbers=['1','2','3','4','5','7']\n",
    "numbers[2:5]=[]\n",
    "print(numbers)"
   ],
   "metadata": {
    "collapsed": false,
    "pycharm": {
     "name": "#%%\n"
    }
   }
  },
  {
   "cell_type": "markdown",
   "source": [
    "分片数据替换并设置步长"
   ],
   "metadata": {
    "collapsed": false,
    "pycharm": {
     "name": "#%% md\n"
    }
   }
  },
  {
   "cell_type": "code",
   "execution_count": 10,
   "outputs": [
    {
     "name": "stdout",
     "output_type": "stream",
     "text": [
      "['a', 'b', 'x', 'd', 'y', 'f', 'z', 'h']\n"
     ]
    }
   ],
   "source": [
    "numbers = ['a','b','c','d','e','f','g','h']\n",
    "numbers[2:8:2] = ['x','y','z']\n",
    "print(numbers)"
   ],
   "metadata": {
    "collapsed": false,
    "pycharm": {
     "name": "#%%\n"
    }
   }
  },
  {
   "cell_type": "markdown",
   "source": [
    "成员运算符 in not in"
   ],
   "metadata": {
    "collapsed": false,
    "pycharm": {
     "name": "#%% md\n"
    }
   }
  },
  {
   "cell_type": "code",
   "execution_count": 11,
   "outputs": [
    {
     "name": "stdout",
     "output_type": "stream",
     "text": [
      "2在列表中\n"
     ]
    }
   ],
   "source": [
    "numbers=[1,2,3,4,5]\n",
    "if 2 in numbers:\n",
    "    print(\"2在列表中\")"
   ],
   "metadata": {
    "collapsed": false,
    "pycharm": {
     "name": "#%%\n"
    }
   }
  },
  {
   "cell_type": "markdown",
   "source": [
    "列表操作函数\n",
    "```\n",
    "append(data):在列表最后追加新内容\n",
    "clear():清楚列表数据\n",
    "copy():列表复制\n",
    "count(data):统计某一个数据在列表中的出现次数\n",
    "extend(列表)：为一个列表追加另一个列表\n",
    "index(data)：从列表中查询某个数据第一次出现的位置\n",
    "insert(index,data)向列表中指定索引位置追加新数据\n",
    "pop(index)从列表弹出一个数据并删除\n",
    "remove(data)：从列表删除数据\n",
    "reverse():列表数据反转\n",
    "sort():列表数据排序\n",
    "```"
   ],
   "metadata": {
    "collapsed": false,
    "pycharm": {
     "name": "#%% md\n"
    }
   }
  },
  {
   "cell_type": "code",
   "execution_count": 12,
   "outputs": [
    {
     "name": "stdout",
     "output_type": "stream",
     "text": [
      "初始化列表长度：0\n",
      "列表扩展后长度：4\n",
      "kongkong lili yiiit bobo "
     ]
    }
   ],
   "source": [
    "#扩充列表内容\n",
    "infos=[]\n",
    "print('初始化列表长度：%d'%len(infos))\n",
    "infos.append('kongkong')\n",
    "infos.insert(1,'lili')\n",
    "infos.extend(['yiiit','bobo'])\n",
    "print('列表扩展后长度：%d'%(len(infos)))\n",
    "for i in infos:\n",
    "    print(i,end=' ')"
   ],
   "metadata": {
    "collapsed": false,
    "pycharm": {
     "name": "#%%\n"
    }
   }
  },
  {
   "cell_type": "code",
   "source": [
    "#列表数据复制\n",
    "infos = ['kongkong','zizi','lala']\n",
    "msgs = infos.copy()\n",
    "print('infos保存地址编号：%d'%id(infos))\n",
    "print('msgs保存地址编号：%d'%id(msgs))\n",
    "for i in msgs:\n",
    "    print(i,end=' ')"
   ],
   "metadata": {
    "collapsed": false,
    "pycharm": {
     "name": "#%%\n"
    }
   },
   "execution_count": 13,
   "outputs": [
    {
     "name": "stdout",
     "output_type": "stream",
     "text": [
      "infos保存地址编号：2616409541960\n",
      "msgs保存地址编号：2616410079688\n",
      "kongkong zizi lala "
     ]
    }
   ]
  },
  {
   "cell_type": "code",
   "execution_count": 16,
   "outputs": [
    {
     "name": "stdout",
     "output_type": "stream",
     "text": [
      "['lala', 'kkk', 'dede']\n"
     ]
    }
   ],
   "source": [
    "#列表数据的删除,remove方法需要只要具体要删除的数据值\n",
    "infos = ['lala','kkk','lulu','dede']\n",
    "infos.remove('lulu')\n",
    "print(infos)"
   ],
   "metadata": {
    "collapsed": false,
    "pycharm": {
     "name": "#%%\n"
    }
   }
  },
  {
   "cell_type": "code",
   "execution_count": 17,
   "outputs": [
    {
     "name": "stdout",
     "output_type": "stream",
     "text": [
      "['lala', 'kkk', 'dede']\n"
     ]
    }
   ],
   "source": [
    "#del关键字可根据索引进行删除\n",
    "infos = ['lala','kkk','lulu','dede']\n",
    "del infos[2]\n",
    "print(infos)"
   ],
   "metadata": {
    "collapsed": false,
    "pycharm": {
     "name": "#%%\n"
    }
   }
  },
  {
   "cell_type": "code",
   "execution_count": 1,
   "outputs": [
    {
     "name": "stdout",
     "output_type": "stream",
     "text": [
      "lala kkk lulu dede \n",
      " []\n"
     ]
    }
   ],
   "source": [
    "#列表内容的弹出\n",
    "infos =['lala','kkk','lulu','dede']\n",
    "for i in range(len(infos)):\n",
    "    print(infos.pop(0),end=' ')\n",
    "print('\\n',infos)"
   ],
   "metadata": {
    "collapsed": false,
    "pycharm": {
     "name": "#%%\n"
    }
   }
  },
  {
   "cell_type": "code",
   "execution_count": 2,
   "outputs": [
    {
     "name": "stdout",
     "output_type": "stream",
     "text": [
      "A、B、C、"
     ]
    }
   ],
   "source": [
    "#列表数据的追加与弹出\n",
    "chars=[]\n",
    "chars.append('A');chars.append('B');chars.append('C')\n",
    "print(chars.pop(0),end='、')\n",
    "print(chars.pop(0),end='、')\n",
    "print(chars.pop(0),end='、')\n",
    "#使用pop函数在删除之前可以获取要删除的数据的内容并进行相关处理操作，而使用\n",
    "#而使用del关键字只是简单的删除列表中的一个数据项"
   ],
   "metadata": {
    "collapsed": false,
    "pycharm": {
     "name": "#%%\n"
    }
   }
  },
  {
   "cell_type": "code",
   "execution_count": 3,
   "outputs": [
    {
     "name": "stdout",
     "output_type": "stream",
     "text": [
      "[5, 4, 3, 2, 1]\n",
      "[1, 2, 6, 45]\n"
     ]
    }
   ],
   "source": [
    "#列表排序与反转\n",
    "numbers = [1,2,3,4,5]\n",
    "numbers.reverse()\n",
    "print(numbers)\n",
    "numbers=[2,45,6,1]\n",
    "numbers.sort()\n",
    "print(numbers)"
   ],
   "metadata": {
    "collapsed": false,
    "pycharm": {
     "name": "#%%\n"
    }
   }
  },
  {
   "cell_type": "code",
   "execution_count": 5,
   "outputs": [
    {
     "name": "stdout",
     "output_type": "stream",
     "text": [
      "True\n",
      "False\n",
      "True\n"
     ]
    }
   ],
   "source": [
    "#列表相等判断\n",
    "print([1,2,3]==[1,2,3])\n",
    "print([1,2,3]==[3,2,1])\n",
    "print([3,2,1].sort()==[1,2,3].sort())\n",
    "#两组数必须都拍个序，否则即使数据相等，返回的依然是false"
   ],
   "metadata": {
    "collapsed": false,
    "pycharm": {
     "name": "#%%\n"
    }
   }
  },
  {
   "cell_type": "code",
   "execution_count": 7,
   "outputs": [
    {
     "name": "stdout",
     "output_type": "stream",
     "text": [
      "2\n",
      "2\n"
     ]
    }
   ],
   "source": [
    "#统计列表中指定内容的出现次数\n",
    "numbers = [1,2,3,4,5,6,3,1,2]\n",
    "infos=[\"小李老师\",'小李老师',1,1,3,3,3,5]\n",
    "print(numbers.count(3))\n",
    "print(infos.count('小李老师'))"
   ],
   "metadata": {
    "collapsed": false,
    "pycharm": {
     "name": "#%%\n"
    }
   }
  },
  {
   "cell_type": "code",
   "execution_count": 17,
   "outputs": [
    {
     "name": "stdout",
     "output_type": "stream",
     "text": [
      "2\n",
      "6\n"
     ]
    },
    {
     "ename": "ValueError",
     "evalue": "99 is not in list",
     "output_type": "error",
     "traceback": [
      "\u001B[1;31m---------------------------------------------------------------------------\u001B[0m",
      "\u001B[1;31mValueError\u001B[0m                                Traceback (most recent call last)",
      "\u001B[1;32m<ipython-input-17-142577267f48>\u001B[0m in \u001B[0;36m<module>\u001B[1;34m\u001B[0m\n\u001B[0;32m      5\u001B[0m \u001B[0mprint\u001B[0m\u001B[1;33m(\u001B[0m\u001B[0mnumbers\u001B[0m\u001B[1;33m.\u001B[0m\u001B[0mindex\u001B[0m\u001B[1;33m(\u001B[0m\u001B[1;36m3\u001B[0m\u001B[1;33m)\u001B[0m\u001B[1;33m)\u001B[0m\u001B[1;31m#从第0个索引位置开始查找\u001B[0m\u001B[1;33m\u001B[0m\u001B[1;33m\u001B[0m\u001B[0m\n\u001B[0;32m      6\u001B[0m \u001B[0mprint\u001B[0m\u001B[1;33m(\u001B[0m\u001B[0mnumbers\u001B[0m\u001B[1;33m.\u001B[0m\u001B[0mindex\u001B[0m\u001B[1;33m(\u001B[0m\u001B[1;36m3\u001B[0m\u001B[1;33m,\u001B[0m\u001B[1;36m4\u001B[0m\u001B[1;33m)\u001B[0m\u001B[1;33m)\u001B[0m\u001B[1;31m#从第4个索引位置开始查找\u001B[0m\u001B[1;33m\u001B[0m\u001B[1;33m\u001B[0m\u001B[0m\n\u001B[1;32m----> 7\u001B[1;33m \u001B[0mprint\u001B[0m\u001B[1;33m(\u001B[0m\u001B[0mnumbers\u001B[0m\u001B[1;33m.\u001B[0m\u001B[0mindex\u001B[0m\u001B[1;33m(\u001B[0m\u001B[1;36m99\u001B[0m\u001B[1;33m)\u001B[0m\u001B[1;33m)\u001B[0m\u001B[1;33m\u001B[0m\u001B[1;33m\u001B[0m\u001B[0m\n\u001B[0m\u001B[0;32m      8\u001B[0m \u001B[1;33m\u001B[0m\u001B[0m\n",
      "\u001B[1;31mValueError\u001B[0m: 99 is not in list"
     ]
    }
   ],
   "source": [
    "#列表中提供了一个index（）查找函数，利用此函数可以判断某一个列表数据\n",
    "#是否存在，当列表数据存在时会返回该列表数据索引的位置，否则如果不存在\n",
    "#则会产生ValueError异常\n",
    "numbers=[1,2,3,4,5,6,3,1,2]\n",
    "print(numbers.index(3))#从第0个索引位置开始查找\n",
    "print(numbers.index(3,4))#从第4个索引位置开始查找\n",
    "print(numbers.index(99))"
   ],
   "metadata": {
    "collapsed": false,
    "pycharm": {
     "name": "#%%\n"
    }
   }
  },
  {
   "cell_type": "markdown",
   "source": [
    "元组"
   ],
   "metadata": {
    "collapsed": false,
    "pycharm": {
     "name": "#%% md\n"
    }
   }
  },
  {
   "cell_type": "code",
   "execution_count": 19,
   "outputs": [
    {
     "name": "stdout",
     "output_type": "stream",
     "text": [
      "('kkk', 'zzzz', '111')\n"
     ]
    }
   ],
   "source": [
    "#元组的定义与输出\n",
    "infos = ('kkk','zzzz','111')\n",
    "print(infos)"
   ],
   "metadata": {
    "collapsed": false,
    "pycharm": {
     "name": "#%%\n"
    }
   }
  },
  {
   "cell_type": "code",
   "execution_count": 20,
   "outputs": [
    {
     "ename": "TypeError",
     "evalue": "'tuple' object does not support item assignment",
     "output_type": "error",
     "traceback": [
      "\u001B[1;31m---------------------------------------------------------------------------\u001B[0m",
      "\u001B[1;31mTypeError\u001B[0m                                 Traceback (most recent call last)",
      "\u001B[1;32m<ipython-input-20-76fd26affb91>\u001B[0m in \u001B[0;36m<module>\u001B[1;34m\u001B[0m\n\u001B[0;32m      5\u001B[0m \u001B[1;31m#如果元组只有一项内容，则在列表项的最后必须要有‘，’，否则只是一个普通数据\u001B[0m\u001B[1;33m\u001B[0m\u001B[1;33m\u001B[0m\u001B[1;33m\u001B[0m\u001B[0m\n\u001B[0;32m      6\u001B[0m \u001B[0minfos\u001B[0m\u001B[1;33m=\u001B[0m\u001B[1;33m(\u001B[0m\u001B[1;34m'kk'\u001B[0m\u001B[1;33m,\u001B[0m\u001B[1;33m)\u001B[0m\u001B[1;33m\u001B[0m\u001B[1;33m\u001B[0m\u001B[0m\n\u001B[1;32m----> 7\u001B[1;33m \u001B[0minfos\u001B[0m\u001B[1;33m[\u001B[0m\u001B[1;36m0\u001B[0m\u001B[1;33m]\u001B[0m\u001B[1;33m=\u001B[0m\u001B[1;34m'jjj'\u001B[0m\u001B[1;33m\u001B[0m\u001B[1;33m\u001B[0m\u001B[0m\n\u001B[0m\u001B[0;32m      8\u001B[0m \u001B[0mprint\u001B[0m\u001B[1;33m(\u001B[0m\u001B[0minfos\u001B[0m\u001B[1;33m)\u001B[0m\u001B[1;33m\u001B[0m\u001B[1;33m\u001B[0m\u001B[0m\n",
      "\u001B[1;31mTypeError\u001B[0m: 'tuple' object does not support item assignment"
     ]
    }
   ],
   "source": [
    "#元组内容无法修改\n",
    "#在不进行内容修改的情况下元组和列表是没有区别的，而一旦对元组进行修改，\n",
    "#就会产生TypeError异常，下面的代码为例\n",
    "#修改元组数据\n",
    "#如果元组只有一项内容，则在列表项的最后必须要有‘，’，否则只是一个普通数据\n",
    "infos=('kk',)\n",
    "infos[0]='jjj'\n",
    "print(infos)"
   ],
   "metadata": {
    "collapsed": false,
    "pycharm": {
     "name": "#%%\n"
    }
   }
  },
  {
   "cell_type": "code",
   "execution_count": 21,
   "outputs": [
    {
     "name": "stdout",
     "output_type": "stream",
     "text": [
      "('李兴华', 'yootk.com', 'muyanyoh', '李兴华', 'yootk.com', 'muyanyoh', 'kkk')\n"
     ]
    }
   ],
   "source": [
    "#需要注意的是，元组在定义时也可以使用“*”和“+”，但是这些操作并不是\n",
    "#针对元组内容的修改，只不过是以一个元组创建另外一个元组\n",
    "#元组计算操作\n",
    "#此时相当于用一个元组乘2后又连接了另外一个元组形成新的元组赋予infos\n",
    "infos = ('李兴华','yootk.com','muyanyoh')*2+('kkk',)\n",
    "print(infos)"
   ],
   "metadata": {
    "collapsed": false,
    "pycharm": {
     "name": "#%%\n"
    }
   }
  },
  {
   "cell_type": "code",
   "execution_count": 22,
   "outputs": [
    {
     "name": "stdout",
     "output_type": "stream",
     "text": [
      "numbers变量的数据类型：<class 'list'>\n",
      "tuples变量的数据类型<class 'tuple'>\n"
     ]
    }
   ],
   "source": [
    "#在Python中为了方便进行序列类型的转换，提供了tuple函数以实现列表与元组结构的转换\n",
    "#将列表转为元组\n",
    "numbers=[1,2,3,4,5]\n",
    "tuples=tuple(numbers)\n",
    "print('numbers变量的数据类型：%s'%type(numbers))\n",
    "print(\"tuples变量的数据类型%s\"%type(tuples))"
   ],
   "metadata": {
    "collapsed": false,
    "pycharm": {
     "name": "#%%\n"
    }
   }
  },
  {
   "cell_type": "code",
   "execution_count": 23,
   "outputs": [
    {
     "name": "stdout",
     "output_type": "stream",
     "text": [
      "numbers变量的数据类型<class 'tuple'>\n",
      "infos变量的数据类型：<class 'list'>\n"
     ]
    }
   ],
   "source": [
    "#将元组转为列表\n",
    "numbers=(1,2,3,4,5)\n",
    "infos=list(numbers)\n",
    "print(\"numbers变量的数据类型%s\"%type(numbers))\n",
    "print(\"infos变量的数据类型：%s\"%type(infos))"
   ],
   "metadata": {
    "collapsed": false,
    "pycharm": {
     "name": "#%%\n"
    }
   }
  },
  {
   "cell_type": "markdown",
   "source": [
    "4.3序列统计函数"
   ],
   "metadata": {
    "collapsed": false,
    "pycharm": {
     "name": "#%% md\n"
    }
   }
  },
  {
   "cell_type": "markdown",
   "source": [
    "```\n",
    "len(seq):获取序列的长度\n",
    "max(seq):获取序列中的最大值\n",
    "min(seq):获取序列中的最小值\n",
    "sum(seq):计算序列中的内容总和\n",
    "any(seq):序列中有一个内容为true结果为true，全部为false时结果为false\n",
    "all(seq):序列中有一个内容为false结果为false，全部为true时为true\n",
    "```"
   ],
   "metadata": {
    "collapsed": false,
    "pycharm": {
     "name": "#%% md\n"
    }
   }
  },
  {
   "cell_type": "code",
   "execution_count": 26,
   "outputs": [
    {
     "name": "stdout",
     "output_type": "stream",
     "text": [
      "9 6 1 27\n",
      "True\n",
      "False\n"
     ]
    }
   ],
   "source": [
    "numbers = [1,2,3,4,5,6,3,2,1]\n",
    "print(len(numbers),max(numbers),min(numbers),sum(numbers))\n",
    "print(any((True,1,'hello')))\n",
    "print(all((True,None)))"
   ],
   "metadata": {
    "collapsed": false,
    "pycharm": {
     "name": "#%%\n"
    }
   }
  },
  {
   "cell_type": "markdown",
   "source": [
    "4.4 字符串"
   ],
   "metadata": {
    "collapsed": false,
    "pycharm": {
     "name": "#%% md\n"
    }
   }
  },
  {
   "cell_type": "code",
   "execution_count": 27,
   "outputs": [
    {
     "name": "stdout",
     "output_type": "stream",
     "text": [
      " is sunny\n",
      "toda\n"
     ]
    }
   ],
   "source": [
    "#字符串分片操作\n",
    "title= 'today is sunny'\n",
    "sub_url = title[5:]\n",
    "sub_name = title[:4]\n",
    "print(sub_url)\n",
    "print(sub_name)"
   ],
   "metadata": {
    "collapsed": false,
    "pycharm": {
     "name": "#%%\n"
    }
   }
  },
  {
   "cell_type": "code",
   "execution_count": 28,
   "outputs": [
    {
     "name": "stdout",
     "output_type": "stream",
     "text": [
      "13 y .\n"
     ]
    }
   ],
   "source": [
    "# 字符串信息统计\n",
    "title = 'www.yootk.com'\n",
    "print(len(title),max(title),min(title))"
   ],
   "metadata": {
    "collapsed": false,
    "pycharm": {
     "name": "#%%\n"
    }
   }
  },
  {
   "cell_type": "code",
   "execution_count": 29,
   "outputs": [
    {
     "name": "stdout",
     "output_type": "stream",
     "text": [
      "子字符串存在。\n"
     ]
    }
   ],
   "source": [
    "#如果要确定一个子字符串的内容是否存在于一个字符串之中，可以直接使用\n",
    "#成员运算符in或not in来判断\n",
    "title = \"www.yootk.com\"\n",
    "if 'yootk' in title:\n",
    "    print('子字符串存在。')"
   ],
   "metadata": {
    "collapsed": false,
    "pycharm": {
     "name": "#%%\n"
    }
   }
  },
  {
   "cell_type": "markdown",
   "source": [
    "4.4.1 字符串格式化\n",
    "```\n",
    "使用语法\n",
    "\"...{成员标记 ！转换格式 ：格式描述}...\".format(参数内容，...)\n",
    "在每一组格式化文本中都包含以下三个组成内容，并且这三个内容都属于可选定义\n",
    "成员标记：用于进行成员或参数序号定义，如果不定义，则参数需要按照顺序进行设置\n",
    "转换格式：将指定参数的数据内容进行数据格式转换，需要使用表4-4所示的转换标记完成\n",
    "格式描述：提供若干配置选项，选项定义顺序为[[fill]align][sign][#][0][width][.][.precision][type],\n",
    "每个一个配置项的作用描述如表4-5所示\n",
    "```\n",
    "#### 转换标记\n",
    "```\n",
    "a 将字符串按Unicode编码输出\n",
    "b 将整数转为二进制数\n",
    "c 将整数转为ASCII码\n",
    "...\n",
    "...\n",
    "```\n",
    "#### 格式描述选项\n",
    "```\n",
    "fill 空白填充配置，默认使用空格实现空白部分的填充\n",
    "align 定义数据的对其方式，在指定数据最小显示宽度时有效，有以下几种对齐模式\n",
    "        <:左对齐（默认选项）\n",
    "        >:右对齐\n",
    "        =:将填充数据放在符号与数据之间，仅针对数据有效\n",
    "        ^:居中对齐\n",
    "sign\n",
    "#\n",
    ",\n",
    "width\n",
    ".precision\n",
    "type\n",
    "```"
   ],
   "metadata": {
    "collapsed": false,
    "pycharm": {
     "name": "#%% md\n"
    }
   }
  },
  {
   "cell_type": "code",
   "execution_count": 30,
   "outputs": [
    {
     "name": "stdout",
     "output_type": "stream",
     "text": [
      "姓名：kk，年龄：10，成绩：100\n"
     ]
    }
   ],
   "source": [
    "#使用format()函数格式化字符串\n",
    "name = 'kk'\n",
    "age = 10\n",
    "score =100\n",
    "message = '姓名：{}，年龄：{}，成绩：{}'.format(name,age,score)\n",
    "print(message)"
   ],
   "metadata": {
    "collapsed": false,
    "pycharm": {
     "name": "#%%\n"
    }
   }
  },
  {
   "cell_type": "code",
   "execution_count": 31,
   "outputs": [
    {
     "name": "stdout",
     "output_type": "stream",
     "text": [
      "姓名：ll,年龄：20,成绩：1001\n"
     ]
    }
   ],
   "source": [
    "#设置格式化参数名称\n",
    "name = 'll'\n",
    "age= 20\n",
    "score = 1001\n",
    "#格式化字符串，定义格式化参数名称，在设置时将通过名称设置参数\n",
    "message  = '姓名：{name_param},年龄：{age_param},成绩：{score_param}'\\\n",
    "    .format(age_param=age,name_param=name,score_param=score)\n",
    "print(message)"
   ],
   "metadata": {
    "collapsed": false,
    "pycharm": {
     "name": "#%%\n"
    }
   }
  },
  {
   "cell_type": "code",
   "execution_count": 32,
   "outputs": [
    {
     "name": "stdout",
     "output_type": "stream",
     "text": [
      "姓名：ll，年龄：20，成绩：1001\n"
     ]
    }
   ],
   "source": [
    "#通过参数顺序的指派传递参数\n",
    "name = 'll'\n",
    "age= 20\n",
    "score = 1001\n",
    "#定义格式化序号，这样传递的参数只需要按照序号顺序传入即可\n",
    "message  = '姓名：{2}，年龄：{0}，成绩：{1}'.format(age,score,name)\n",
    "print(message)"
   ],
   "metadata": {
    "collapsed": false,
    "pycharm": {
     "name": "#%%\n"
    }
   }
  },
  {
   "cell_type": "code",
   "execution_count": 33,
   "outputs": [
    {
     "name": "stdout",
     "output_type": "stream",
     "text": [
      "姓名：小李同学,年龄：18,成绩：97.5\n"
     ]
    }
   ],
   "source": [
    "#通过索引项填充数据\n",
    "infos = ['小李同学',18,97.5]\n",
    "#定义格式化序号，这样传递的参数只需要按照序号顺序传入即可\n",
    "message = '姓名：{list_param[0]},年龄：{list_param[1]},成绩：{list_param[2]}'.format(list_param=infos)\n",
    "print(message)"
   ],
   "metadata": {
    "collapsed": false,
    "pycharm": {
     "name": "#%%\n"
    }
   }
  },
  {
   "cell_type": "code",
   "execution_count": 36,
   "outputs": [
    {
     "name": "stdout",
     "output_type": "stream",
     "text": [
      "UNICODE编码：'\\u5c0f\\u674e\\u8001\\u5e08'\n",
      "成绩: 98.24\n",
      "收入：92393、收入：9.239300E+04\n",
      "二进制数据：0b1010\n",
      "八进制数据：0o12\n",
      "十六进制数据：0XA\n"
     ]
    }
   ],
   "source": [
    "#数据格式化处理\n",
    "print(\"UNICODE编码：{info!a}\".format(info='小李老师'))\n",
    "print('成绩:{info:6.2f}'.format(info=98.23567))\n",
    "print('收入：{numA:G}、收入：{numB:E}'.format(numA=92393,numB=92393))\n",
    "print('二进制数据：{num:#b}'.format(num=10))\n",
    "print('八进制数据：{num:#o}'.format(num=10))\n",
    "print('十六进制数据：{num:#X}'.format(num=10))"
   ],
   "metadata": {
    "collapsed": false,
    "pycharm": {
     "name": "#%%\n"
    }
   }
  },
  {
   "cell_type": "code",
   "execution_count": 37,
   "outputs": [
    {
     "name": "stdout",
     "output_type": "stream",
     "text": [
      "数据居中显示【   www.yootk.com    】\n",
      "数据填充：___www.yootk.com____\n",
      "带符号数字填充：      -12.123       \n",
      "右对齐：               25.00\n",
      "数字使用“,”分隔：928,239,329.9923233\n",
      "设置显示精度：www.yootk\n"
     ]
    }
   ],
   "source": [
    "#定义数字与字符串显示格式\n",
    "msg = \"www.yootk.com\"\n",
    "print(\"数据居中显示【{info:^20}】\".format(info=msg))\n",
    "print(\"数据填充：{info:_^20}\".format(info=msg))\n",
    "print(\"带符号数字填充：{num:^+20.3f}\".format(num=-12.12345))\n",
    "print(\"右对齐：{n:>20.2f}\".format(n=25))\n",
    "print(\"数字使用“,”分隔：{num:,}\".format(num=928239329.99232323))\n",
    "print(\"设置显示精度：{info:.9}\".format(info=msg))"
   ],
   "metadata": {
    "collapsed": false,
    "pycharm": {
     "name": "#%%\n"
    }
   }
  },
  {
   "cell_type": "code",
   "execution_count": 38,
   "outputs": [
    {
     "name": "stdout",
     "output_type": "stream",
     "text": [
      "    *     \n",
      "   ***    \n",
      "  *****   \n",
      " *******  \n",
      "********* \n"
     ]
    }
   ],
   "source": [
    "#利用字符串格式化实现三角形打印\n",
    "triangle_line=5\n",
    "format_str = \"{:^\"+str(triangle_line*2)+\"}\"\n",
    "for num in range(1,triangle_line*2+1,2):\n",
    "    print(format_str.format(\"*\"*num))"
   ],
   "metadata": {
    "collapsed": false,
    "pycharm": {
     "name": "#%%\n"
    }
   }
  },
  {
   "cell_type": "markdown",
   "source": [
    "#### 4.4.2字符串操作函数\n",
    "```\n",
    "字符串数据处理函数\n",
    "center() 字符串居中显示\n",
    "find(data) 字符串数据查找，查找到内容返回索引位置，找不到返回-1\n",
    "join(data) 字符串连接\n",
    "split(data[,limit]) 字符串拆分\n",
    "lower() 字符串转小写\n",
    "upper() 字符串转大写\n",
    "capitalize() 首字母大写\n",
    "replace(old,new[,limit]) 字符串替换\n",
    "translate(mt) 使用指定替换规则实现单个字符的替换\n",
    "maketrans(oc,nc[,d]) 与translate（）函数结合使用，定义要替换的字符内容以及删除字符内容\n",
    "strip() 删除左右空格\n",
    "```"
   ],
   "metadata": {
    "collapsed": false,
    "pycharm": {
     "name": "#%% md\n"
    }
   }
  },
  {
   "cell_type": "code",
   "execution_count": 40,
   "outputs": [
    {
     "name": "stdout",
     "output_type": "stream",
     "text": [
      "              lulala.KONGziqing.com               \n",
      "LULALA.KONGZIQING.COM\n",
      "lulala.kongziqing.com\n",
      "Ciik\n"
     ]
    }
   ],
   "source": [
    "#字符串显示控制\n",
    "info = \"lulala.KONGziqing.com\"\n",
    "print(info.center(50))\n",
    "print(info.upper())\n",
    "print(info.lower())\n",
    "print(\"ciik\".capitalize())\n",
    "#page 70"
   ],
   "metadata": {
    "collapsed": false,
    "pycharm": {
     "name": "#%%\n"
    }
   }
  }
 ],
 "metadata": {
  "kernelspec": {
   "name": "pycharm-46b75f7f",
   "language": "python",
   "display_name": "PyCharm (Python入门)"
  },
  "language_info": {
   "codemirror_mode": {
    "name": "ipython",
    "version": 2
   },
   "file_extension": ".py",
   "mimetype": "text/x-python",
   "name": "python",
   "nbconvert_exporter": "python",
   "pygments_lexer": "ipython2",
   "version": "2.7.6"
  }
 },
 "nbformat": 4,
 "nbformat_minor": 0
}