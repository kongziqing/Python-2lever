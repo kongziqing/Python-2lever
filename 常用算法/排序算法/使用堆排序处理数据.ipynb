{
 "cells": [
  {
   "cell_type": "markdown",
   "source": [
    "对排序的基本思想是：初始时把要排序的数的序列看做一颗顺序存储\n",
    "的二叉树，调整他们的存储序，使之成为堆，这时堆的根节点的数最大\n",
    "，然后将根节点与堆的最后一个节点交换，然后对前面的（n-1）个数\n",
    "重新调整，使之成为堆，以此类推，直到只有两个节点的堆，并对\n",
    "他们做交换，最后得到有n个节点的有序序列，从算法描述来看，堆排序\n",
    "有两个函数组成，一个是建堆的渗透函数，而是反复调用渗透函数实现\n",
    "排序的函数。"
   ],
   "metadata": {
    "collapsed": false,
    "pycharm": {
     "name": "#%% md\n"
    }
   }
  },
  {
   "cell_type": "code",
   "execution_count": 16,
   "metadata": {
    "collapsed": true
   },
   "outputs": [
    {
     "name": "stdout",
     "output_type": "stream",
     "text": [
      "[87, 44, 75, 6, 63, 91, 75, 2, 24, 59]\n"
     ]
    }
   ],
   "source": [
    "import random\n",
    "def get_num(num):\n",
    "    list = []\n",
    "    for i in range(num):\n",
    "        list.append(random.randint(0,100))\n",
    "    return list"
   ]
  },
  {
   "cell_type": "code",
   "execution_count": 20,
   "outputs": [
    {
     "name": "stdout",
     "output_type": "stream",
     "text": [
      "[86, 82, 30, 43, 12, 31, 96, 40, 88, 98]\n",
      "[12, 30, 31, 40, 43, 96, 82, 88, 98, 86]\n"
     ]
    }
   ],
   "source": [
    "def creat_heap(lists,i,size):\n",
    "    left_child = 2*i+1\n",
    "    right_child = 2*i+2\n",
    "    max=i\n",
    "    if i<size/2:\n",
    "        if left_child<size and lists[max]<lists[left_child]:\n",
    "            max = left_child\n",
    "        if right_child<size and lists[max]<lists[right_child]:\n",
    "            max = right_child\n",
    "        if max!=i:\n",
    "            lists[i],lists[max]=lists[max],lists[i]\n",
    "            creat_heap(lists,max,size)\n",
    "def build_sort(lists,size):\n",
    "    for i in range(size/2)[::-1]:\n",
    "        creat_heap(lists,i,size)\n",
    "def heap_sort(lists):\n",
    "    size = len(lists)\n",
    "    for i in range(size)[::-1]:\n",
    "        lists[0],lists[i] = lists[i],lists[0]\n",
    "        creat_heap(lists,0,i)\n",
    "    return lists\n",
    "\n",
    "lists=get_num(10)\n",
    "print(lists)\n",
    "lists_sorted=heap_sort(lists)\n",
    "print(lists_sorted)\n",
    "\n"
   ],
   "metadata": {
    "collapsed": false,
    "pycharm": {
     "name": "#%%\n"
    }
   }
  }
 ],
 "metadata": {
  "kernelspec": {
   "display_name": "Python 3",
   "language": "python",
   "name": "python3"
  },
  "language_info": {
   "codemirror_mode": {
    "name": "ipython",
    "version": 2
   },
   "file_extension": ".py",
   "mimetype": "text/x-python",
   "name": "python",
   "nbconvert_exporter": "python",
   "pygments_lexer": "ipython2",
   "version": "2.7.6"
  }
 },
 "nbformat": 4,
 "nbformat_minor": 0
}